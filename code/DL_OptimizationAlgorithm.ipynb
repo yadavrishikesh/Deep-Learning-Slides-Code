{
  "nbformat": 4,
  "nbformat_minor": 0,
  "metadata": {
    "colab": {
      "provenance": [],
      "authorship_tag": "ABX9TyOYDRq7QiutPTg6YhNGi8E2",
      "include_colab_link": true
    },
    "kernelspec": {
      "name": "python3",
      "display_name": "Python 3"
    },
    "language_info": {
      "name": "python"
    }
  },
  "cells": [
    {
      "cell_type": "markdown",
      "metadata": {
        "id": "view-in-github",
        "colab_type": "text"
      },
      "source": [
        "<a href=\"https://colab.research.google.com/github/yadavrishikesh/Deep-Learning-Slides-Code/blob/main/code/DL_OptimizationAlgorithm.ipynb\" target=\"_parent\"><img src=\"https://colab.research.google.com/assets/colab-badge.svg\" alt=\"Open In Colab\"/></a>"
      ]
    },
    {
      "cell_type": "markdown",
      "source": [],
      "metadata": {
        "id": "O9UM0ydHOKz3"
      }
    },
    {
      "cell_type": "markdown",
      "source": [
        "# Binary Classification and Optimization Algorithms Comparison\n",
        "\n",
        "In this notebook, we will:\n",
        "\n",
        "1. Simulate a synthetic binary classification dataset.\n",
        "2. Implement logistic regression from scratch.\n",
        "3. Train the model using several optimization algorithms:\n",
        "   - Gradient Descent (GD)\n",
        "   - Stochastic Gradient Descent (SGD)\n",
        "   - Newton-Raphson\n",
        "   - Adam\n",
        "4. Compare convergence and final classification performance."
      ],
      "metadata": {
        "id": "7492Y5D9Ozux"
      }
    },
    {
      "cell_type": "markdown",
      "source": [
        "## 1. Import Libraries\n",
        "We need `numpy` for numerical computations and `matplotlib` for plotting convergence.\n"
      ],
      "metadata": {
        "id": "66a06eLuPUgs"
      }
    },
    {
      "cell_type": "code",
      "source": [
        "import numpy as np\n",
        "import matplotlib.pyplot as plt\n",
        "np.random.seed(42)  # ensure reproducibility\n"
      ],
      "metadata": {
        "id": "__mscH80PNMq"
      },
      "execution_count": null,
      "outputs": []
    },
    {
      "cell_type": "markdown",
      "source": [
        "## 2. Generate Synthetic Binary Classification Data\n",
        "We simulate two classes with 2D features. Each class is sampled from a Gaussian distribution.\n",
        "We also add a bias term (intercept) to the feature matrix.\n"
      ],
      "metadata": {
        "id": "FfdOXM5RPdvZ"
      }
    }
  ]
}